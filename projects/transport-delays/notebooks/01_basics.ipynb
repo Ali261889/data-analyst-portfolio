{
 "cells": [
  {
   "cell_type": "code",
   "execution_count": 3,
   "id": "a7c8a72e",
   "metadata": {},
   "outputs": [
    {
     "name": "stdout",
     "output_type": "stream",
     "text": [
      "OK\n"
     ]
    }
   ],
   "source": [
    "import pandas as pd\n",
    "import matplotlib.pyplot as plt\n",
    "import numpy as np\n",
    "import pandas as pd\n",
    "print(\"OK\")\n"
   ]
  },
  {
   "cell_type": "code",
   "execution_count": 5,
   "id": "72c6956d",
   "metadata": {},
   "outputs": [
    {
     "name": "stdout",
     "output_type": "stream",
     "text": [
      "Rows x Cols: (5, 6)\n"
     ]
    },
    {
     "data": {
      "text/html": [
       "<div>\n",
       "<style scoped>\n",
       "    .dataframe tbody tr th:only-of-type {\n",
       "        vertical-align: middle;\n",
       "    }\n",
       "\n",
       "    .dataframe tbody tr th {\n",
       "        vertical-align: top;\n",
       "    }\n",
       "\n",
       "    .dataframe thead th {\n",
       "        text-align: right;\n",
       "    }\n",
       "</style>\n",
       "<table border=\"1\" class=\"dataframe\">\n",
       "  <thead>\n",
       "    <tr style=\"text-align: right;\">\n",
       "      <th></th>\n",
       "      <th>order_id</th>\n",
       "      <th>date</th>\n",
       "      <th>customer</th>\n",
       "      <th>category</th>\n",
       "      <th>qty</th>\n",
       "      <th>price</th>\n",
       "    </tr>\n",
       "  </thead>\n",
       "  <tbody>\n",
       "    <tr>\n",
       "      <th>0</th>\n",
       "      <td>1</td>\n",
       "      <td>2024-01-02</td>\n",
       "      <td>A</td>\n",
       "      <td>Accessories</td>\n",
       "      <td>2</td>\n",
       "      <td>19.9</td>\n",
       "    </tr>\n",
       "    <tr>\n",
       "      <th>1</th>\n",
       "      <td>2</td>\n",
       "      <td>2024-01-03</td>\n",
       "      <td>B</td>\n",
       "      <td>Electronics</td>\n",
       "      <td>1</td>\n",
       "      <td>199.0</td>\n",
       "    </tr>\n",
       "    <tr>\n",
       "      <th>2</th>\n",
       "      <td>3</td>\n",
       "      <td>2024-01-03</td>\n",
       "      <td>B</td>\n",
       "      <td>Accessories</td>\n",
       "      <td>3</td>\n",
       "      <td>12.5</td>\n",
       "    </tr>\n",
       "    <tr>\n",
       "      <th>3</th>\n",
       "      <td>4</td>\n",
       "      <td>2024-01-05</td>\n",
       "      <td>C</td>\n",
       "      <td>Home</td>\n",
       "      <td>1</td>\n",
       "      <td>35.0</td>\n",
       "    </tr>\n",
       "    <tr>\n",
       "      <th>4</th>\n",
       "      <td>5</td>\n",
       "      <td>2024-01-06</td>\n",
       "      <td>A</td>\n",
       "      <td>Home</td>\n",
       "      <td>2</td>\n",
       "      <td>29.9</td>\n",
       "    </tr>\n",
       "  </tbody>\n",
       "</table>\n",
       "</div>"
      ],
      "text/plain": [
       "   order_id        date customer     category  qty  price\n",
       "0         1  2024-01-02        A  Accessories    2   19.9\n",
       "1         2  2024-01-03        B  Electronics    1  199.0\n",
       "2         3  2024-01-03        B  Accessories    3   12.5\n",
       "3         4  2024-01-05        C         Home    1   35.0\n",
       "4         5  2024-01-06        A         Home    2   29.9"
      ]
     },
     "execution_count": 5,
     "metadata": {},
     "output_type": "execute_result"
    }
   ],
   "source": [
    "import pandas as pd\n",
    "df = pd.read_csv(\"../data/sales.csv\")  # note: path is from notebooks/ to data/\n",
    "print(\"Rows x Cols:\", df.shape)\n",
    "df.head()\n"
   ]
  },
  {
   "cell_type": "code",
   "execution_count": null,
   "id": "390f847a",
   "metadata": {},
   "outputs": [
    {
     "name": "stdout",
     "output_type": "stream",
     "text": [
      "min/mas price: 12.5 199.0\n"
     ]
    }
   ],
   "source": [
    "print(df[\"price\"].head())\n",
    "print(\"Mean price:\", df[\"price\"].mean())\n",
    "print(\"Min/Max:\", df[\"price\"].min(), df[\"price\"].max())"
   ]
  },
  {
   "cell_type": "code",
   "execution_count": null,
   "id": "1db6b3bf",
   "metadata": {},
   "outputs": [
    {
     "name": "stdout",
     "output_type": "stream",
     "text": [
      "the mean is : 59.25999999999999\n"
     ]
    }
   ],
   "source": [
    "print(\"the mean is :\",df[\"price\"].mean())"
   ]
  },
  {
   "cell_type": "code",
   "execution_count": null,
   "id": "43668158",
   "metadata": {},
   "outputs": [
    {
     "name": "stdout",
     "output_type": "stream",
     "text": [
      "Min/Max: 12.5 199.0\n"
     ]
    }
   ],
   "source": [
    "print(\"Min/Max:\", df[\"price\"].min(), df[\"price\"].max())"
   ]
  },
  {
   "cell_type": "code",
   "execution_count": null,
   "id": "752370a0",
   "metadata": {},
   "outputs": [
    {
     "name": "stdout",
     "output_type": "stream",
     "text": [
      "the max price is : 199.0 the min price is : 12.5\n"
     ]
    }
   ],
   "source": [
    "print(\"the max price is :\",df[\"price\"].max(),\"the min price is :\",df[\"price\"].min())\n"
   ]
  },
  {
   "cell_type": "code",
   "execution_count": null,
   "id": "76b650e3",
   "metadata": {},
   "outputs": [],
   "source": [
    "df[\"revenue\"]=df[\"price\"]*df[\"qty\"]"
   ]
  },
  {
   "cell_type": "code",
   "execution_count": null,
   "id": "4a7acb0f",
   "metadata": {},
   "outputs": [
    {
     "name": "stdout",
     "output_type": "stream",
     "text": [
      "total_revenue 296.3\n"
     ]
    }
   ],
   "source": [
    "total_revenue=df[\"price\"].sum()\n",
    "print(\"total_revenue\",round(total_revenue,3))"
   ]
  },
  {
   "cell_type": "code",
   "execution_count": null,
   "id": "ba790551",
   "metadata": {},
   "outputs": [
    {
     "data": {
      "text/html": [
       "<div>\n",
       "<style scoped>\n",
       "    .dataframe tbody tr th:only-of-type {\n",
       "        vertical-align: middle;\n",
       "    }\n",
       "\n",
       "    .dataframe tbody tr th {\n",
       "        vertical-align: top;\n",
       "    }\n",
       "\n",
       "    .dataframe thead th {\n",
       "        text-align: right;\n",
       "    }\n",
       "</style>\n",
       "<table border=\"1\" class=\"dataframe\">\n",
       "  <thead>\n",
       "    <tr style=\"text-align: right;\">\n",
       "      <th></th>\n",
       "      <th>category</th>\n",
       "      <th>revenue</th>\n",
       "    </tr>\n",
       "  </thead>\n",
       "  <tbody>\n",
       "    <tr>\n",
       "      <th>1</th>\n",
       "      <td>Electronics</td>\n",
       "      <td>199.0</td>\n",
       "    </tr>\n",
       "    <tr>\n",
       "      <th>2</th>\n",
       "      <td>Home</td>\n",
       "      <td>94.8</td>\n",
       "    </tr>\n",
       "    <tr>\n",
       "      <th>0</th>\n",
       "      <td>Accessories</td>\n",
       "      <td>77.3</td>\n",
       "    </tr>\n",
       "  </tbody>\n",
       "</table>\n",
       "</div>"
      ],
      "text/plain": [
       "      category  revenue\n",
       "1  Electronics    199.0\n",
       "2         Home     94.8\n",
       "0  Accessories     77.3"
      ]
     },
     "execution_count": 54,
     "metadata": {},
     "output_type": "execute_result"
    }
   ],
   "source": [
    "rev_by_cat = (\n",
    "    df.groupby(\"category\", as_index=False)[\"revenue\"].sum()\n",
    "      .sort_values(\"revenue\", ascending=False)\n",
    ")\n",
    "rev_by_cat\n"
   ]
  },
  {
   "cell_type": "code",
   "execution_count": null,
   "id": "358d690d",
   "metadata": {},
   "outputs": [
    {
     "data": {
      "text/html": [
       "<div>\n",
       "<style scoped>\n",
       "    .dataframe tbody tr th:only-of-type {\n",
       "        vertical-align: middle;\n",
       "    }\n",
       "\n",
       "    .dataframe tbody tr th {\n",
       "        vertical-align: top;\n",
       "    }\n",
       "\n",
       "    .dataframe thead th {\n",
       "        text-align: right;\n",
       "    }\n",
       "</style>\n",
       "<table border=\"1\" class=\"dataframe\">\n",
       "  <thead>\n",
       "    <tr style=\"text-align: right;\">\n",
       "      <th></th>\n",
       "      <th>customer</th>\n",
       "      <th>revenue</th>\n",
       "    </tr>\n",
       "  </thead>\n",
       "  <tbody>\n",
       "    <tr>\n",
       "      <th>1</th>\n",
       "      <td>B</td>\n",
       "      <td>236.5</td>\n",
       "    </tr>\n",
       "    <tr>\n",
       "      <th>0</th>\n",
       "      <td>A</td>\n",
       "      <td>99.6</td>\n",
       "    </tr>\n",
       "    <tr>\n",
       "      <th>2</th>\n",
       "      <td>C</td>\n",
       "      <td>35.0</td>\n",
       "    </tr>\n",
       "  </tbody>\n",
       "</table>\n",
       "</div>"
      ],
      "text/plain": [
       "  customer  revenue\n",
       "1        B    236.5\n",
       "0        A     99.6\n",
       "2        C     35.0"
      ]
     },
     "execution_count": 58,
     "metadata": {},
     "output_type": "execute_result"
    }
   ],
   "source": [
    "top_cust = (df.groupby(\"customer\", as_index=False)[\"revenue\"].sum().sort_values(\"revenue\", ascending=False))\n",
    "top_cust\n"
   ]
  },
  {
   "cell_type": "code",
   "execution_count": null,
   "id": "6f0eedd0",
   "metadata": {},
   "outputs": [],
   "source": []
  }
 ],
 "metadata": {
  "kernelspec": {
   "display_name": "Python 3",
   "language": "python",
   "name": "python3"
  },
  "language_info": {
   "codemirror_mode": {
    "name": "ipython",
    "version": 3
   },
   "file_extension": ".py",
   "mimetype": "text/x-python",
   "name": "python",
   "nbconvert_exporter": "python",
   "pygments_lexer": "ipython3",
   "version": "3.12.8"
  }
 },
 "nbformat": 4,
 "nbformat_minor": 5
}
